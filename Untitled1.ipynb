{
 "cells": [
  {
   "cell_type": "code",
   "execution_count": 1,
   "id": "16136e04",
   "metadata": {},
   "outputs": [
    {
     "name": "stdout",
     "output_type": "stream",
     "text": [
      "Collecting lightgbm\n",
      "  Downloading lightgbm-4.0.0-py3-none-win_amd64.whl (1.3 MB)\n",
      "Requirement already satisfied: numpy in f:\\anaconda\\lib\\site-packages (from lightgbm) (1.21.5)\n",
      "Requirement already satisfied: scipy in f:\\anaconda\\lib\\site-packages (from lightgbm) (1.7.3)\n",
      "Installing collected packages: lightgbm\n",
      "Successfully installed lightgbm-4.0.0\n"
     ]
    }
   ],
   "source": [
    "!pip install lightgbm"
   ]
  },
  {
   "cell_type": "code",
   "execution_count": 2,
   "id": "246c248c",
   "metadata": {},
   "outputs": [],
   "source": [
    "import pandas as pd\n",
    "import numpy as np\n",
    "from sklearn.model_selection import train_test_split\n",
    "from sklearn.preprocessing import LabelEncoder\n",
    "import lightgbm as lgb\n",
    "from sklearn.metrics import mean_squared_error"
   ]
  },
  {
   "cell_type": "code",
   "execution_count": 3,
   "id": "7cc33981",
   "metadata": {},
   "outputs": [],
   "source": [
    "# Load your dataset\n",
    "data = pd.read_csv('train.csv')"
   ]
  },
  {
   "cell_type": "code",
   "execution_count": 5,
   "id": "b2c8e28b",
   "metadata": {},
   "outputs": [
    {
     "name": "stdout",
     "output_type": "stream",
     "text": [
      "UID        0\n",
      "col_0    139\n",
      "col_1     86\n",
      "col_2      0\n",
      "col_3      0\n",
      "col_4      0\n",
      "col_5      0\n",
      "col_6    112\n",
      "y          0\n",
      "dtype: int64\n"
     ]
    }
   ],
   "source": [
    "# Identify and handle missing values\n",
    "null_counts = data.isnull().sum()\n",
    "print(null_counts)"
   ]
  },
  {
   "cell_type": "code",
   "execution_count": 6,
   "id": "534f1f62",
   "metadata": {},
   "outputs": [],
   "source": [
    "# Fill missing values in numeric columns with mean\n",
    "data.fillna(' ', inplace=True)"
   ]
  },
  {
   "cell_type": "code",
   "execution_count": 7,
   "id": "2a28e78a",
   "metadata": {},
   "outputs": [],
   "source": [
    "# Fill missing values in text columns with \"Unknown\" (you can use any other value)\n",
    "text_columns = ['UID', 'col_0', 'col_1', 'col_2', 'col_3', 'col_4', 'col_5', 'col_6']\n",
    "for col in text_columns:\n",
    "    data[col].fillna(\"Unknown\", inplace=True)"
   ]
  },
  {
   "cell_type": "code",
   "execution_count": 8,
   "id": "834319dd",
   "metadata": {},
   "outputs": [],
   "source": [
    "# Label encode text columns\n",
    "label_encoders = {}\n",
    "for col in text_columns:\n",
    "    le = LabelEncoder()\n",
    "    data[col] = le.fit_transform(data[col])\n",
    "    label_encoders[col] = le"
   ]
  },
  {
   "cell_type": "code",
   "execution_count": 9,
   "id": "21663f71",
   "metadata": {},
   "outputs": [],
   "source": [
    "# Split the data into features (X) and target (y)\n",
    "X = data.drop('y', axis=1)\n",
    "X = X.drop('UID', axis=1)\n",
    "y = data['y']\n",
    "y = y/1000000"
   ]
  },
  {
   "cell_type": "code",
   "execution_count": 10,
   "id": "5b68a88f",
   "metadata": {},
   "outputs": [],
   "source": [
    "# Split the data into training and testing sets\n",
    "X_train, X_test, y_train, y_test = train_test_split(X, y, test_size=0.2, random_state=42)\n",
    "\n",
    "# Create a LightGBM dataset\n",
    "train_data = lgb.Dataset(X_train, label=y_train)"
   ]
  },
  {
   "cell_type": "code",
   "execution_count": 11,
   "id": "31a49c22",
   "metadata": {},
   "outputs": [
    {
     "name": "stdout",
     "output_type": "stream",
     "text": [
      "[LightGBM] [Warning] Auto-choosing row-wise multi-threading, the overhead of testing was 0.000229 seconds.\n",
      "You can set `force_row_wise=true` to remove the overhead.\n",
      "And if memory is not enough, you can set `force_col_wise=true`.\n",
      "[LightGBM] [Info] Total Bins 165\n",
      "[LightGBM] [Info] Number of data points in the train set: 2102, number of used features: 7\n",
      "[LightGBM] [Info] Start training from score 0.137180\n"
     ]
    }
   ],
   "source": [
    "# Set hyperparameters for the LightGBM model (you can tune these)\n",
    "params = {\n",
    "    'objective': 'regression',\n",
    "    'metric': 'mean_squared_error',\n",
    "    'boosting_type': 'gbdt',\n",
    "    'num_leaves': 31,\n",
    "    'learning_rate': 0.05,\n",
    "    'feature_fraction': 0.9,\n",
    "}\n",
    "\n",
    "# Train the LightGBM model\n",
    "num_round = 100\n",
    "bst = lgb.train(params, train_data, num_round)"
   ]
  },
  {
   "cell_type": "code",
   "execution_count": 12,
   "id": "aafdf79e",
   "metadata": {},
   "outputs": [
    {
     "name": "stdout",
     "output_type": "stream",
     "text": [
      "Mean Squared Error on Test Data: 0.002631299575532398\n"
     ]
    }
   ],
   "source": [
    "# Make predictions\n",
    "y_pred = bst.predict(X_test, num_iteration=bst.best_iteration)\n",
    "\n",
    "# Calculate the mean squared error\n",
    "mse = mean_squared_error(y_test, y_pred)\n",
    "print(f'Mean Squared Error on Test Data: {mse}')\n",
    "\n",
    "# You can use y_pred for further analysis or evaluation"
   ]
  },
  {
   "cell_type": "code",
   "execution_count": 16,
   "id": "5479345d",
   "metadata": {},
   "outputs": [],
   "source": [
    "# Prepare new input data in the same format as your original dataset\n",
    "# You can create a DataFrame with the same column names and encode text columns\n",
    "new_data = pd.DataFrame({\n",
    "    'col_0': ['A0'],\n",
    "    'col_1': ['B0'],\n",
    "    'col_2': ['C2'],\n",
    "    'col_3': ['D1'],\n",
    "    'col_4': [100],\n",
    "    'col_5': ['E1'],\n",
    "    'col_6': ['F2']\n",
    "})"
   ]
  },
  {
   "cell_type": "code",
   "execution_count": 17,
   "id": "144ad86d",
   "metadata": {},
   "outputs": [],
   "source": [
    "# Label encode text columns using the same label encoders as before\n",
    "text_columns = ['col_0', 'col_1', 'col_2', 'col_3', 'col_4', 'col_5', 'col_6']\n",
    "for col in text_columns:\n",
    "    le = label_encoders[col]\n",
    "    new_data[col] = le.transform(new_data[col])"
   ]
  },
  {
   "cell_type": "code",
   "execution_count": 20,
   "id": "3bb403e7",
   "metadata": {},
   "outputs": [
    {
     "name": "stdout",
     "output_type": "stream",
     "text": [
      "Predicted Output: 164011.62217996744\n"
     ]
    }
   ],
   "source": [
    "# Make predictions with the loaded model\n",
    "prediction = bst.predict(new_data, num_iteration=bst.best_iteration)\n",
    "\n",
    "# Print the prediction\n",
    "print(f'Predicted Output: {prediction[0]*1000000}')"
   ]
  },
  {
   "cell_type": "code",
   "execution_count": null,
   "id": "1027ee3e",
   "metadata": {},
   "outputs": [],
   "source": []
  },
  {
   "cell_type": "code",
   "execution_count": null,
   "id": "a159a5a7",
   "metadata": {},
   "outputs": [],
   "source": []
  },
  {
   "cell_type": "code",
   "execution_count": null,
   "id": "12ba0ff4",
   "metadata": {},
   "outputs": [],
   "source": []
  }
 ],
 "metadata": {
  "kernelspec": {
   "display_name": "Python 3 (ipykernel)",
   "language": "python",
   "name": "python3"
  },
  "language_info": {
   "codemirror_mode": {
    "name": "ipython",
    "version": 3
   },
   "file_extension": ".py",
   "mimetype": "text/x-python",
   "name": "python",
   "nbconvert_exporter": "python",
   "pygments_lexer": "ipython3",
   "version": "3.9.12"
  }
 },
 "nbformat": 4,
 "nbformat_minor": 5
}

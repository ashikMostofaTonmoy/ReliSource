{
 "cells": [
  {
   "cell_type": "code",
   "execution_count": 1,
   "id": "ea37eb9f",
   "metadata": {},
   "outputs": [],
   "source": [
    "import pandas as pd\n",
    "import numpy as np\n",
    "from sklearn.model_selection import train_test_split\n",
    "from sklearn.preprocessing import LabelEncoder\n",
    "from tensorflow.keras.models import Sequential\n",
    "from tensorflow.keras.layers import LSTM, Dense\n",
    "from tensorflow.keras.utils import to_categorical"
   ]
  },
  {
   "cell_type": "code",
   "execution_count": 51,
   "id": "26422d7b",
   "metadata": {},
   "outputs": [],
   "source": [
    "# Load your dataset\n",
    "data = pd.read_csv('train.csv')"
   ]
  },
  {
   "cell_type": "code",
   "execution_count": 52,
   "id": "c775675c",
   "metadata": {},
   "outputs": [
    {
     "name": "stdout",
     "output_type": "stream",
     "text": [
      "UID        0\n",
      "col_0    139\n",
      "col_1     86\n",
      "col_2      0\n",
      "col_3      0\n",
      "col_4      0\n",
      "col_5      0\n",
      "col_6    112\n",
      "y          0\n",
      "dtype: int64\n"
     ]
    }
   ],
   "source": [
    "# Identify and handle missing values\n",
    "null_counts = data.isnull().sum()\n",
    "print(null_counts)"
   ]
  },
  {
   "cell_type": "code",
   "execution_count": 53,
   "id": "d029b51c",
   "metadata": {},
   "outputs": [],
   "source": [
    "data = data.drop('UID', axis=1)"
   ]
  },
  {
   "cell_type": "code",
   "execution_count": 54,
   "id": "515e300b",
   "metadata": {},
   "outputs": [
    {
     "data": {
      "text/html": [
       "<div>\n",
       "<style scoped>\n",
       "    .dataframe tbody tr th:only-of-type {\n",
       "        vertical-align: middle;\n",
       "    }\n",
       "\n",
       "    .dataframe tbody tr th {\n",
       "        vertical-align: top;\n",
       "    }\n",
       "\n",
       "    .dataframe thead th {\n",
       "        text-align: right;\n",
       "    }\n",
       "</style>\n",
       "<table border=\"1\" class=\"dataframe\">\n",
       "  <thead>\n",
       "    <tr style=\"text-align: right;\">\n",
       "      <th></th>\n",
       "      <th>col_0</th>\n",
       "      <th>col_1</th>\n",
       "      <th>col_2</th>\n",
       "      <th>col_3</th>\n",
       "      <th>col_4</th>\n",
       "      <th>col_5</th>\n",
       "      <th>col_6</th>\n",
       "      <th>y</th>\n",
       "    </tr>\n",
       "  </thead>\n",
       "  <tbody>\n",
       "    <tr>\n",
       "      <th>0</th>\n",
       "      <td>A 0</td>\n",
       "      <td>B0</td>\n",
       "      <td>C2</td>\n",
       "      <td>D1</td>\n",
       "      <td>100</td>\n",
       "      <td>E1</td>\n",
       "      <td>F2</td>\n",
       "      <td>237000</td>\n",
       "    </tr>\n",
       "    <tr>\n",
       "      <th>1</th>\n",
       "      <td>A1</td>\n",
       "      <td>B0</td>\n",
       "      <td>C11</td>\n",
       "      <td>D4</td>\n",
       "      <td>100</td>\n",
       "      <td>E4</td>\n",
       "      <td>F2</td>\n",
       "      <td>86193</td>\n",
       "    </tr>\n",
       "    <tr>\n",
       "      <th>2</th>\n",
       "      <td>A0</td>\n",
       "      <td>B0</td>\n",
       "      <td>C18</td>\n",
       "      <td>D0</td>\n",
       "      <td>0</td>\n",
       "      <td>E0</td>\n",
       "      <td>F2</td>\n",
       "      <td>169200</td>\n",
       "    </tr>\n",
       "    <tr>\n",
       "      <th>3</th>\n",
       "      <td>A2</td>\n",
       "      <td>B0</td>\n",
       "      <td>C11</td>\n",
       "      <td>D1</td>\n",
       "      <td>100</td>\n",
       "      <td>E1</td>\n",
       "      <td>F2</td>\n",
       "      <td>58000</td>\n",
       "    </tr>\n",
       "    <tr>\n",
       "      <th>4</th>\n",
       "      <td>A0</td>\n",
       "      <td>B0</td>\n",
       "      <td>C67</td>\n",
       "      <td>D1</td>\n",
       "      <td>0</td>\n",
       "      <td>E1</td>\n",
       "      <td>F2</td>\n",
       "      <td>235000</td>\n",
       "    </tr>\n",
       "  </tbody>\n",
       "</table>\n",
       "</div>"
      ],
      "text/plain": [
       "  col_0 col_1 col_2 col_3  col_4 col_5 col_6       y\n",
       "0   A 0    B0    C2    D1    100    E1    F2  237000\n",
       "1    A1    B0   C11    D4    100    E4    F2   86193\n",
       "2    A0    B0   C18    D0      0    E0    F2  169200\n",
       "3    A2    B0   C11    D1    100    E1    F2   58000\n",
       "4    A0    B0   C67    D1      0    E1    F2  235000"
      ]
     },
     "execution_count": 54,
     "metadata": {},
     "output_type": "execute_result"
    }
   ],
   "source": [
    "data.head()"
   ]
  },
  {
   "cell_type": "code",
   "execution_count": 55,
   "id": "6cbfbc2b",
   "metadata": {},
   "outputs": [
    {
     "name": "stdout",
     "output_type": "stream",
     "text": [
      "col_0    139\n",
      "col_1     86\n",
      "col_2      0\n",
      "col_3      0\n",
      "col_4      0\n",
      "col_5      0\n",
      "col_6    112\n",
      "y          0\n",
      "dtype: int64\n"
     ]
    }
   ],
   "source": [
    "null_counts = data.isnull().sum()\n",
    "print(null_counts)"
   ]
  },
  {
   "cell_type": "code",
   "execution_count": 56,
   "id": "b1751ab0",
   "metadata": {},
   "outputs": [],
   "source": [
    "label_encoders = {}\n",
    "for col in ['col_0', 'col_1', 'col_2', 'col_3', 'col_4', 'col_5', 'col_6']:\n",
    "    le = LabelEncoder()\n",
    "    data[col] = le.fit_transform(data[col])\n",
    "    label_encoders[col] = le"
   ]
  },
  {
   "cell_type": "code",
   "execution_count": 57,
   "id": "7ea0bf34",
   "metadata": {},
   "outputs": [
    {
     "data": {
      "text/html": [
       "<div>\n",
       "<style scoped>\n",
       "    .dataframe tbody tr th:only-of-type {\n",
       "        vertical-align: middle;\n",
       "    }\n",
       "\n",
       "    .dataframe tbody tr th {\n",
       "        vertical-align: top;\n",
       "    }\n",
       "\n",
       "    .dataframe thead th {\n",
       "        text-align: right;\n",
       "    }\n",
       "</style>\n",
       "<table border=\"1\" class=\"dataframe\">\n",
       "  <thead>\n",
       "    <tr style=\"text-align: right;\">\n",
       "      <th></th>\n",
       "      <th>col_0</th>\n",
       "      <th>col_1</th>\n",
       "      <th>col_2</th>\n",
       "      <th>col_3</th>\n",
       "      <th>col_4</th>\n",
       "      <th>col_5</th>\n",
       "      <th>col_6</th>\n",
       "      <th>y</th>\n",
       "    </tr>\n",
       "  </thead>\n",
       "  <tbody>\n",
       "    <tr>\n",
       "      <th>0</th>\n",
       "      <td>5</td>\n",
       "      <td>3</td>\n",
       "      <td>12</td>\n",
       "      <td>1</td>\n",
       "      <td>2</td>\n",
       "      <td>1</td>\n",
       "      <td>10</td>\n",
       "      <td>237000</td>\n",
       "    </tr>\n",
       "    <tr>\n",
       "      <th>1</th>\n",
       "      <td>11</td>\n",
       "      <td>3</td>\n",
       "      <td>3</td>\n",
       "      <td>32</td>\n",
       "      <td>2</td>\n",
       "      <td>33</td>\n",
       "      <td>10</td>\n",
       "      <td>86193</td>\n",
       "    </tr>\n",
       "    <tr>\n",
       "      <th>2</th>\n",
       "      <td>9</td>\n",
       "      <td>3</td>\n",
       "      <td>10</td>\n",
       "      <td>0</td>\n",
       "      <td>0</td>\n",
       "      <td>0</td>\n",
       "      <td>10</td>\n",
       "      <td>169200</td>\n",
       "    </tr>\n",
       "    <tr>\n",
       "      <th>3</th>\n",
       "      <td>13</td>\n",
       "      <td>3</td>\n",
       "      <td>3</td>\n",
       "      <td>1</td>\n",
       "      <td>2</td>\n",
       "      <td>1</td>\n",
       "      <td>10</td>\n",
       "      <td>58000</td>\n",
       "    </tr>\n",
       "    <tr>\n",
       "      <th>4</th>\n",
       "      <td>9</td>\n",
       "      <td>3</td>\n",
       "      <td>63</td>\n",
       "      <td>1</td>\n",
       "      <td>0</td>\n",
       "      <td>1</td>\n",
       "      <td>10</td>\n",
       "      <td>235000</td>\n",
       "    </tr>\n",
       "  </tbody>\n",
       "</table>\n",
       "</div>"
      ],
      "text/plain": [
       "   col_0  col_1  col_2  col_3  col_4  col_5  col_6       y\n",
       "0      5      3     12      1      2      1     10  237000\n",
       "1     11      3      3     32      2     33     10   86193\n",
       "2      9      3     10      0      0      0     10  169200\n",
       "3     13      3      3      1      2      1     10   58000\n",
       "4      9      3     63      1      0      1     10  235000"
      ]
     },
     "execution_count": 57,
     "metadata": {},
     "output_type": "execute_result"
    }
   ],
   "source": [
    "data.head()"
   ]
  },
  {
   "cell_type": "code",
   "execution_count": 58,
   "id": "85d11835",
   "metadata": {},
   "outputs": [
    {
     "name": "stdout",
     "output_type": "stream",
     "text": [
      "col_0    0\n",
      "col_1    0\n",
      "col_2    0\n",
      "col_3    0\n",
      "col_4    0\n",
      "col_5    0\n",
      "col_6    0\n",
      "y        0\n",
      "dtype: int64\n"
     ]
    }
   ],
   "source": [
    "null_counts = data.isnull().sum()\n",
    "print(null_counts)"
   ]
  },
  {
   "cell_type": "code",
   "execution_count": 59,
   "id": "da474abd",
   "metadata": {},
   "outputs": [],
   "source": [
    "# Split the data into features (X) and target (y)\n",
    "X = data.drop('y', axis=1)\n",
    "y = data['y']\n",
    "y = y/1000000"
   ]
  },
  {
   "cell_type": "code",
   "execution_count": 60,
   "id": "3fa04fb2",
   "metadata": {},
   "outputs": [],
   "source": [
    "from sklearn.preprocessing import MinMaxScaler\n",
    "# Normalize the data using MinMaxScaler\n",
    "scaler = MinMaxScaler()\n",
    "X = scaler.fit_transform(X)"
   ]
  },
  {
   "cell_type": "code",
   "execution_count": 61,
   "id": "24a7078b",
   "metadata": {},
   "outputs": [],
   "source": [
    "# Split the data into training and testing sets\n",
    "X_train, X_test, y_train, y_test = train_test_split(X, y, test_size=0.2, random_state=42)\n"
   ]
  },
  {
   "cell_type": "code",
   "execution_count": 62,
   "id": "dbe1c4d9",
   "metadata": {},
   "outputs": [],
   "source": [
    "# Reshape features for LSTM input (samples, time steps, features)\n",
    "X_train = np.array(X_train).reshape(X_train.shape[0], 1, X_train.shape[1])\n",
    "X_test = np.array(X_test).reshape(X_test.shape[0], 1, X_test.shape[1])"
   ]
  },
  {
   "cell_type": "code",
   "execution_count": 63,
   "id": "b0993423",
   "metadata": {},
   "outputs": [],
   "source": [
    "# Build the LSTM model\n",
    "model = Sequential()\n",
    "model.add(LSTM(256, input_shape=(X_train.shape[1], X_train.shape[2])))\n",
    "# model.add(LSTM(128, input_shape=(X_train.shape[1], X_train.shape[2])))\n",
    "# model.add(LSTM(64, input_shape=(X_train.shape[1], X_train.shape[2])))\n",
    "model.add(Dense(16))\n",
    "model.add(Dense(1))"
   ]
  },
  {
   "cell_type": "code",
   "execution_count": 64,
   "id": "389fce46",
   "metadata": {},
   "outputs": [],
   "source": [
    "# Compile the model\n",
    "model.compile(optimizer='adam', loss='mean_squared_error', metrics=['accuracy'])"
   ]
  },
  {
   "cell_type": "code",
   "execution_count": 65,
   "id": "b8489f08",
   "metadata": {
    "scrolled": true
   },
   "outputs": [
    {
     "name": "stdout",
     "output_type": "stream",
     "text": [
      "Epoch 1/50\n",
      "66/66 [==============================] - 3s 7ms/step - loss: 0.0042 - accuracy: 0.0000e+00\n",
      "Epoch 2/50\n",
      "66/66 [==============================] - 0s 6ms/step - loss: 0.0033 - accuracy: 0.0000e+00\n",
      "Epoch 3/50\n",
      "66/66 [==============================] - 0s 6ms/step - loss: 0.0032 - accuracy: 0.0000e+00\n",
      "Epoch 4/50\n",
      "66/66 [==============================] - 0s 6ms/step - loss: 0.0032 - accuracy: 0.0000e+00\n",
      "Epoch 5/50\n",
      "66/66 [==============================] - 0s 6ms/step - loss: 0.0032 - accuracy: 0.0000e+00\n",
      "Epoch 6/50\n",
      "66/66 [==============================] - 0s 6ms/step - loss: 0.0033 - accuracy: 0.0000e+00\n",
      "Epoch 7/50\n",
      "66/66 [==============================] - 0s 6ms/step - loss: 0.0031 - accuracy: 0.0000e+00\n",
      "Epoch 8/50\n",
      "66/66 [==============================] - 0s 7ms/step - loss: 0.0031 - accuracy: 0.0000e+00\n",
      "Epoch 9/50\n",
      "66/66 [==============================] - 0s 6ms/step - loss: 0.0031 - accuracy: 0.0000e+00\n",
      "Epoch 10/50\n",
      "66/66 [==============================] - 0s 7ms/step - loss: 0.0032 - accuracy: 0.0000e+00\n",
      "Epoch 11/50\n",
      "66/66 [==============================] - 0s 6ms/step - loss: 0.0032 - accuracy: 0.0000e+00\n",
      "Epoch 12/50\n",
      "66/66 [==============================] - 0s 6ms/step - loss: 0.0031 - accuracy: 0.0000e+00\n",
      "Epoch 13/50\n",
      "66/66 [==============================] - 0s 6ms/step - loss: 0.0031 - accuracy: 0.0000e+00\n",
      "Epoch 14/50\n",
      "66/66 [==============================] - 0s 6ms/step - loss: 0.0031 - accuracy: 0.0000e+00\n",
      "Epoch 15/50\n",
      "66/66 [==============================] - 0s 6ms/step - loss: 0.0031 - accuracy: 0.0000e+00\n",
      "Epoch 16/50\n",
      "66/66 [==============================] - 0s 6ms/step - loss: 0.0031 - accuracy: 0.0000e+00\n",
      "Epoch 17/50\n",
      "66/66 [==============================] - 0s 7ms/step - loss: 0.0031 - accuracy: 0.0000e+00\n",
      "Epoch 18/50\n",
      "66/66 [==============================] - 0s 7ms/step - loss: 0.0031 - accuracy: 0.0000e+00\n",
      "Epoch 19/50\n",
      "66/66 [==============================] - 0s 7ms/step - loss: 0.0030 - accuracy: 0.0000e+00\n",
      "Epoch 20/50\n",
      "66/66 [==============================] - 0s 6ms/step - loss: 0.0030 - accuracy: 0.0000e+00\n",
      "Epoch 21/50\n",
      "66/66 [==============================] - 0s 7ms/step - loss: 0.0031 - accuracy: 0.0000e+00\n",
      "Epoch 22/50\n",
      "66/66 [==============================] - 0s 6ms/step - loss: 0.0031 - accuracy: 0.0000e+00\n",
      "Epoch 23/50\n",
      "66/66 [==============================] - 0s 6ms/step - loss: 0.0031 - accuracy: 0.0000e+00\n",
      "Epoch 24/50\n",
      "66/66 [==============================] - 0s 6ms/step - loss: 0.0031 - accuracy: 0.0000e+00\n",
      "Epoch 25/50\n",
      "66/66 [==============================] - 0s 6ms/step - loss: 0.0030 - accuracy: 0.0000e+00\n",
      "Epoch 26/50\n",
      "66/66 [==============================] - 0s 6ms/step - loss: 0.0031 - accuracy: 0.0000e+00\n",
      "Epoch 27/50\n",
      "66/66 [==============================] - 0s 6ms/step - loss: 0.0031 - accuracy: 0.0000e+00\n",
      "Epoch 28/50\n",
      "66/66 [==============================] - 0s 6ms/step - loss: 0.0030 - accuracy: 0.0000e+00\n",
      "Epoch 29/50\n",
      "66/66 [==============================] - 0s 6ms/step - loss: 0.0031 - accuracy: 0.0000e+00\n",
      "Epoch 30/50\n",
      "66/66 [==============================] - 0s 6ms/step - loss: 0.0030 - accuracy: 0.0000e+00\n",
      "Epoch 31/50\n",
      "66/66 [==============================] - 0s 6ms/step - loss: 0.0030 - accuracy: 0.0000e+00\n",
      "Epoch 32/50\n",
      "66/66 [==============================] - 0s 6ms/step - loss: 0.0031 - accuracy: 0.0000e+00\n",
      "Epoch 33/50\n",
      "66/66 [==============================] - 0s 6ms/step - loss: 0.0031 - accuracy: 0.0000e+00\n",
      "Epoch 34/50\n",
      "66/66 [==============================] - 0s 6ms/step - loss: 0.0030 - accuracy: 0.0000e+00\n",
      "Epoch 35/50\n",
      "66/66 [==============================] - 0s 6ms/step - loss: 0.0030 - accuracy: 0.0000e+00\n",
      "Epoch 36/50\n",
      "66/66 [==============================] - 0s 6ms/step - loss: 0.0030 - accuracy: 0.0000e+00\n",
      "Epoch 37/50\n",
      "66/66 [==============================] - 0s 6ms/step - loss: 0.0030 - accuracy: 0.0000e+00\n",
      "Epoch 38/50\n",
      "66/66 [==============================] - 0s 6ms/step - loss: 0.0030 - accuracy: 0.0000e+00\n",
      "Epoch 39/50\n",
      "66/66 [==============================] - 0s 6ms/step - loss: 0.0030 - accuracy: 0.0000e+00\n",
      "Epoch 40/50\n",
      "66/66 [==============================] - 0s 7ms/step - loss: 0.0030 - accuracy: 0.0000e+00\n",
      "Epoch 41/50\n",
      "66/66 [==============================] - 0s 7ms/step - loss: 0.0030 - accuracy: 0.0000e+00\n",
      "Epoch 42/50\n",
      "66/66 [==============================] - 0s 7ms/step - loss: 0.0030 - accuracy: 0.0000e+00\n",
      "Epoch 43/50\n",
      "66/66 [==============================] - 0s 7ms/step - loss: 0.0030 - accuracy: 0.0000e+00\n",
      "Epoch 44/50\n",
      "66/66 [==============================] - 0s 6ms/step - loss: 0.0030 - accuracy: 0.0000e+00\n",
      "Epoch 45/50\n",
      "66/66 [==============================] - 0s 6ms/step - loss: 0.0030 - accuracy: 0.0000e+00\n",
      "Epoch 46/50\n",
      "66/66 [==============================] - 0s 7ms/step - loss: 0.0030 - accuracy: 0.0000e+00\n",
      "Epoch 47/50\n",
      "66/66 [==============================] - 0s 7ms/step - loss: 0.0030 - accuracy: 0.0000e+00\n",
      "Epoch 48/50\n",
      "66/66 [==============================] - 0s 6ms/step - loss: 0.0030 - accuracy: 0.0000e+00\n",
      "Epoch 49/50\n",
      "66/66 [==============================] - 0s 6ms/step - loss: 0.0030 - accuracy: 0.0000e+00\n",
      "Epoch 50/50\n",
      "66/66 [==============================] - 0s 6ms/step - loss: 0.0030 - accuracy: 0.0000e+00\n"
     ]
    },
    {
     "data": {
      "text/plain": [
       "<keras.callbacks.History at 0x20d0c46aa60>"
      ]
     },
     "execution_count": 65,
     "metadata": {},
     "output_type": "execute_result"
    }
   ],
   "source": [
    "# Train the model\n",
    "model.fit(X_train, y_train, epochs=50, batch_size=32)"
   ]
  },
  {
   "cell_type": "code",
   "execution_count": 66,
   "id": "db31c908",
   "metadata": {},
   "outputs": [
    {
     "name": "stdout",
     "output_type": "stream",
     "text": [
      "Mean Squared Error on Test Data: [0.00341411423869431, 0.0]\n",
      "17/17 [==============================] - 0s 2ms/step\n"
     ]
    }
   ],
   "source": [
    "# Evaluate the model\n",
    "loss = model.evaluate(X_test, y_test, verbose=0)\n",
    "print(f'Mean Squared Error on Test Data: {loss}')\n",
    "\n",
    "# Make predictions\n",
    "predictions = model.predict(X_test)"
   ]
  },
  {
   "cell_type": "code",
   "execution_count": 67,
   "id": "5eccde93",
   "metadata": {},
   "outputs": [],
   "source": [
    "# Prepare new input data in the same format as your original dataset\n",
    "# You can create a DataFrame with the same column names and encode text columns\n",
    "new_data = pd.DataFrame({\n",
    "    'col_0': ['A0'],\n",
    "    'col_1': ['B0'],\n",
    "    'col_2': ['C2'],\n",
    "    'col_3': ['D1'],\n",
    "    'col_4': [100],\n",
    "    'col_5': ['E1'],\n",
    "    'col_6': ['F2']\n",
    "})"
   ]
  },
  {
   "cell_type": "code",
   "execution_count": 68,
   "id": "032b7f17",
   "metadata": {},
   "outputs": [],
   "source": [
    "# Label encode text columns using the same label encoders as before\n",
    "text_columns = ['col_0', 'col_1', 'col_2', 'col_3', 'col_4', 'col_5', 'col_6']\n",
    "for col in text_columns:\n",
    "    le = label_encoders[col]\n",
    "    new_data[col] = le.transform(new_data[col])"
   ]
  },
  {
   "cell_type": "code",
   "execution_count": 72,
   "id": "a81bc2e6",
   "metadata": {},
   "outputs": [
    {
     "name": "stdout",
     "output_type": "stream",
     "text": [
      "1/1 [==============================] - 0s 13ms/step\n",
      "Predicted Output: [163453.63855362]\n"
     ]
    }
   ],
   "source": [
    "# Normalize the new input data using the same MinMaxScaler as before\n",
    "new_data = scaler.transform(new_data)\n",
    "\n",
    "# Reshape the new input data for LSTM input (samples, time steps, features)\n",
    "new_data = np.array(new_data).reshape(1, 1, new_data.shape[1])\n",
    "\n",
    "# Make predictions with the loaded LSTM model\n",
    "prediction = model.predict(new_data)\n",
    "\n",
    "\n",
    "# Print the prediction\n",
    "print(f'Predicted Output: {prediction[0]*1000000}')"
   ]
  },
  {
   "cell_type": "code",
   "execution_count": null,
   "id": "5d622bfd",
   "metadata": {},
   "outputs": [],
   "source": []
  }
 ],
 "metadata": {
  "kernelspec": {
   "display_name": "Python 3 (ipykernel)",
   "language": "python",
   "name": "python3"
  },
  "language_info": {
   "codemirror_mode": {
    "name": "ipython",
    "version": 3
   },
   "file_extension": ".py",
   "mimetype": "text/x-python",
   "name": "python",
   "nbconvert_exporter": "python",
   "pygments_lexer": "ipython3",
   "version": "3.9.12"
  }
 },
 "nbformat": 4,
 "nbformat_minor": 5
}

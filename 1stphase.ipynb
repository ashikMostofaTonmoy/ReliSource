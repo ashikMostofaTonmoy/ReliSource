{
 "cells": [
  {
   "cell_type": "code",
   "execution_count": 1,
   "metadata": {},
   "outputs": [],
   "source": [
    "# !pip list"
   ]
  },
  {
   "cell_type": "code",
   "execution_count": 2,
   "metadata": {},
   "outputs": [],
   "source": [
    "# # installing dependencies\n",
    "# ! pip install -U pandas pandas-profiling scikit-learn --no-cache-dir"
   ]
  },
  {
   "cell_type": "code",
   "execution_count": 3,
   "metadata": {},
   "outputs": [
    {
     "name": "stderr",
     "output_type": "stream",
     "text": [
      "/home/ashik/Downloads/everythingElse/ReliSource/venv/lib/python3.10/site-packages/tqdm/auto.py:21: TqdmWarning: IProgress not found. Please update jupyter and ipywidgets. See https://ipywidgets.readthedocs.io/en/stable/user_install.html\n",
      "  from .autonotebook import tqdm as notebook_tqdm\n",
      "/tmp/ipykernel_19338/3826459295.py:2: DeprecationWarning: `import pandas_profiling` is going to be deprecated by April 1st. Please use `import ydata_profiling` instead.\n",
      "  import pandas_profiling\n"
     ]
    }
   ],
   "source": [
    "import pandas as pd\n",
    "import pandas_profiling"
   ]
  },
  {
   "cell_type": "code",
   "execution_count": 4,
   "metadata": {},
   "outputs": [
    {
     "data": {
      "text/html": [
       "<div>\n",
       "<style scoped>\n",
       "    .dataframe tbody tr th:only-of-type {\n",
       "        vertical-align: middle;\n",
       "    }\n",
       "\n",
       "    .dataframe tbody tr th {\n",
       "        vertical-align: top;\n",
       "    }\n",
       "\n",
       "    .dataframe thead th {\n",
       "        text-align: right;\n",
       "    }\n",
       "</style>\n",
       "<table border=\"1\" class=\"dataframe\">\n",
       "  <thead>\n",
       "    <tr style=\"text-align: right;\">\n",
       "      <th></th>\n",
       "      <th>UID</th>\n",
       "      <th>col_0</th>\n",
       "      <th>col_1</th>\n",
       "      <th>col_2</th>\n",
       "      <th>col_3</th>\n",
       "      <th>col_4</th>\n",
       "      <th>col_5</th>\n",
       "      <th>col_6</th>\n",
       "      <th>y</th>\n",
       "    </tr>\n",
       "  </thead>\n",
       "  <tbody>\n",
       "    <tr>\n",
       "      <th>0</th>\n",
       "      <td>0</td>\n",
       "      <td>A 0</td>\n",
       "      <td>B0</td>\n",
       "      <td>C2</td>\n",
       "      <td>D1</td>\n",
       "      <td>100</td>\n",
       "      <td>E1</td>\n",
       "      <td>F2</td>\n",
       "      <td>237000</td>\n",
       "    </tr>\n",
       "    <tr>\n",
       "      <th>1</th>\n",
       "      <td>1</td>\n",
       "      <td>A1</td>\n",
       "      <td>B0</td>\n",
       "      <td>C11</td>\n",
       "      <td>D4</td>\n",
       "      <td>100</td>\n",
       "      <td>E4</td>\n",
       "      <td>F2</td>\n",
       "      <td>86193</td>\n",
       "    </tr>\n",
       "    <tr>\n",
       "      <th>2</th>\n",
       "      <td>2</td>\n",
       "      <td>A0</td>\n",
       "      <td>B0</td>\n",
       "      <td>C18</td>\n",
       "      <td>D0</td>\n",
       "      <td>0</td>\n",
       "      <td>E0</td>\n",
       "      <td>F2</td>\n",
       "      <td>169200</td>\n",
       "    </tr>\n",
       "    <tr>\n",
       "      <th>3</th>\n",
       "      <td>3</td>\n",
       "      <td>A2</td>\n",
       "      <td>B0</td>\n",
       "      <td>C11</td>\n",
       "      <td>D1</td>\n",
       "      <td>100</td>\n",
       "      <td>E1</td>\n",
       "      <td>F2</td>\n",
       "      <td>58000</td>\n",
       "    </tr>\n",
       "    <tr>\n",
       "      <th>4</th>\n",
       "      <td>4</td>\n",
       "      <td>A0</td>\n",
       "      <td>B0</td>\n",
       "      <td>C67</td>\n",
       "      <td>D1</td>\n",
       "      <td>0</td>\n",
       "      <td>E1</td>\n",
       "      <td>F2</td>\n",
       "      <td>235000</td>\n",
       "    </tr>\n",
       "    <tr>\n",
       "      <th>...</th>\n",
       "      <td>...</td>\n",
       "      <td>...</td>\n",
       "      <td>...</td>\n",
       "      <td>...</td>\n",
       "      <td>...</td>\n",
       "      <td>...</td>\n",
       "      <td>...</td>\n",
       "      <td>...</td>\n",
       "      <td>...</td>\n",
       "    </tr>\n",
       "    <tr>\n",
       "      <th>2623</th>\n",
       "      <td>2623</td>\n",
       "      <td>A1</td>\n",
       "      <td>B0</td>\n",
       "      <td>C2</td>\n",
       "      <td>D1</td>\n",
       "      <td>0</td>\n",
       "      <td>E1</td>\n",
       "      <td>F2</td>\n",
       "      <td>102100</td>\n",
       "    </tr>\n",
       "    <tr>\n",
       "      <th>2624</th>\n",
       "      <td>2624</td>\n",
       "      <td>A0</td>\n",
       "      <td>B0</td>\n",
       "      <td>C8</td>\n",
       "      <td>D1</td>\n",
       "      <td>0</td>\n",
       "      <td>E1</td>\n",
       "      <td>F2</td>\n",
       "      <td>129300</td>\n",
       "    </tr>\n",
       "    <tr>\n",
       "      <th>2625</th>\n",
       "      <td>2625</td>\n",
       "      <td>A0</td>\n",
       "      <td>BO</td>\n",
       "      <td>C7</td>\n",
       "      <td>D1</td>\n",
       "      <td>100</td>\n",
       "      <td>E1</td>\n",
       "      <td>F2</td>\n",
       "      <td>275300</td>\n",
       "    </tr>\n",
       "    <tr>\n",
       "      <th>2626</th>\n",
       "      <td>2626</td>\n",
       "      <td>A0</td>\n",
       "      <td>B0</td>\n",
       "      <td>C11</td>\n",
       "      <td>D1</td>\n",
       "      <td>100</td>\n",
       "      <td>E1</td>\n",
       "      <td>F2</td>\n",
       "      <td>150000</td>\n",
       "    </tr>\n",
       "    <tr>\n",
       "      <th>2627</th>\n",
       "      <td>2627</td>\n",
       "      <td>A0</td>\n",
       "      <td>B0</td>\n",
       "      <td>C2</td>\n",
       "      <td>D1</td>\n",
       "      <td>100</td>\n",
       "      <td>E1</td>\n",
       "      <td>F2</td>\n",
       "      <td>191475</td>\n",
       "    </tr>\n",
       "  </tbody>\n",
       "</table>\n",
       "<p>2628 rows × 9 columns</p>\n",
       "</div>"
      ],
      "text/plain": [
       "       UID col_0   col_1 col_2 col_3  col_4 col_5 col_6       y\n",
       "0        0   A 0      B0    C2    D1    100    E1    F2  237000\n",
       "1        1    A1      B0   C11    D4    100    E4    F2   86193\n",
       "2        2    A0      B0   C18    D0      0    E0    F2  169200\n",
       "3        3    A2      B0   C11    D1    100    E1    F2   58000\n",
       "4        4    A0      B0   C67    D1      0    E1    F2  235000\n",
       "...    ...   ...     ...   ...   ...    ...   ...   ...     ...\n",
       "2623  2623    A1      B0    C2    D1      0    E1    F2  102100\n",
       "2624  2624    A0   B0       C8    D1      0    E1    F2  129300\n",
       "2625  2625    A0      BO    C7    D1    100    E1    F2  275300\n",
       "2626  2626    A0      B0   C11    D1    100    E1    F2  150000\n",
       "2627  2627    A0      B0    C2    D1    100    E1    F2  191475\n",
       "\n",
       "[2628 rows x 9 columns]"
      ]
     },
     "execution_count": 4,
     "metadata": {},
     "output_type": "execute_result"
    }
   ],
   "source": [
    "# Read the CSV file into a DataFrame\n",
    "train_data =  pd.read_csv('data/train.csv')\n",
    "train_data"
   ]
  },
  {
   "cell_type": "code",
   "execution_count": 5,
   "metadata": {},
   "outputs": [
    {
     "data": {
      "text/html": [
       "<div>\n",
       "<style scoped>\n",
       "    .dataframe tbody tr th:only-of-type {\n",
       "        vertical-align: middle;\n",
       "    }\n",
       "\n",
       "    .dataframe tbody tr th {\n",
       "        vertical-align: top;\n",
       "    }\n",
       "\n",
       "    .dataframe thead th {\n",
       "        text-align: right;\n",
       "    }\n",
       "</style>\n",
       "<table border=\"1\" class=\"dataframe\">\n",
       "  <thead>\n",
       "    <tr style=\"text-align: right;\">\n",
       "      <th></th>\n",
       "      <th>UID</th>\n",
       "      <th>col_0</th>\n",
       "      <th>col_1</th>\n",
       "      <th>col_2</th>\n",
       "      <th>col_3</th>\n",
       "      <th>col_4</th>\n",
       "      <th>col_5</th>\n",
       "      <th>col_6</th>\n",
       "      <th>y</th>\n",
       "    </tr>\n",
       "  </thead>\n",
       "  <tbody>\n",
       "    <tr>\n",
       "      <th>0</th>\n",
       "      <td>0</td>\n",
       "      <td>A 0</td>\n",
       "      <td>B0</td>\n",
       "      <td>C2</td>\n",
       "      <td>D1</td>\n",
       "      <td>100</td>\n",
       "      <td>E1</td>\n",
       "      <td>F2</td>\n",
       "      <td>237000</td>\n",
       "    </tr>\n",
       "    <tr>\n",
       "      <th>1</th>\n",
       "      <td>1</td>\n",
       "      <td>A1</td>\n",
       "      <td>B0</td>\n",
       "      <td>C11</td>\n",
       "      <td>D4</td>\n",
       "      <td>100</td>\n",
       "      <td>E4</td>\n",
       "      <td>F2</td>\n",
       "      <td>86193</td>\n",
       "    </tr>\n",
       "    <tr>\n",
       "      <th>2</th>\n",
       "      <td>2</td>\n",
       "      <td>A0</td>\n",
       "      <td>B0</td>\n",
       "      <td>C18</td>\n",
       "      <td>D0</td>\n",
       "      <td>0</td>\n",
       "      <td>E0</td>\n",
       "      <td>F2</td>\n",
       "      <td>169200</td>\n",
       "    </tr>\n",
       "    <tr>\n",
       "      <th>3</th>\n",
       "      <td>3</td>\n",
       "      <td>A2</td>\n",
       "      <td>B0</td>\n",
       "      <td>C11</td>\n",
       "      <td>D1</td>\n",
       "      <td>100</td>\n",
       "      <td>E1</td>\n",
       "      <td>F2</td>\n",
       "      <td>58000</td>\n",
       "    </tr>\n",
       "    <tr>\n",
       "      <th>4</th>\n",
       "      <td>4</td>\n",
       "      <td>A0</td>\n",
       "      <td>B0</td>\n",
       "      <td>C67</td>\n",
       "      <td>D1</td>\n",
       "      <td>0</td>\n",
       "      <td>E1</td>\n",
       "      <td>F2</td>\n",
       "      <td>235000</td>\n",
       "    </tr>\n",
       "  </tbody>\n",
       "</table>\n",
       "</div>"
      ],
      "text/plain": [
       "   UID col_0 col_1 col_2 col_3  col_4 col_5 col_6       y\n",
       "0    0   A 0    B0    C2    D1    100    E1    F2  237000\n",
       "1    1    A1    B0   C11    D4    100    E4    F2   86193\n",
       "2    2    A0    B0   C18    D0      0    E0    F2  169200\n",
       "3    3    A2    B0   C11    D1    100    E1    F2   58000\n",
       "4    4    A0    B0   C67    D1      0    E1    F2  235000"
      ]
     },
     "execution_count": 5,
     "metadata": {},
     "output_type": "execute_result"
    }
   ],
   "source": [
    "train_data.head()"
   ]
  },
  {
   "cell_type": "code",
   "execution_count": 6,
   "metadata": {},
   "outputs": [
    {
     "data": {
      "text/html": [
       "<div>\n",
       "<style scoped>\n",
       "    .dataframe tbody tr th:only-of-type {\n",
       "        vertical-align: middle;\n",
       "    }\n",
       "\n",
       "    .dataframe tbody tr th {\n",
       "        vertical-align: top;\n",
       "    }\n",
       "\n",
       "    .dataframe thead th {\n",
       "        text-align: right;\n",
       "    }\n",
       "</style>\n",
       "<table border=\"1\" class=\"dataframe\">\n",
       "  <thead>\n",
       "    <tr style=\"text-align: right;\">\n",
       "      <th></th>\n",
       "      <th>UID</th>\n",
       "      <th>col_4</th>\n",
       "      <th>y</th>\n",
       "    </tr>\n",
       "  </thead>\n",
       "  <tbody>\n",
       "    <tr>\n",
       "      <th>count</th>\n",
       "      <td>2628.000000</td>\n",
       "      <td>2628.000000</td>\n",
       "      <td>2628.000000</td>\n",
       "    </tr>\n",
       "    <tr>\n",
       "      <th>mean</th>\n",
       "      <td>1313.500000</td>\n",
       "      <td>46.308980</td>\n",
       "      <td>137642.657154</td>\n",
       "    </tr>\n",
       "    <tr>\n",
       "      <th>std</th>\n",
       "      <td>758.782578</td>\n",
       "      <td>48.558188</td>\n",
       "      <td>62886.926575</td>\n",
       "    </tr>\n",
       "    <tr>\n",
       "      <th>min</th>\n",
       "      <td>0.000000</td>\n",
       "      <td>0.000000</td>\n",
       "      <td>5132.000000</td>\n",
       "    </tr>\n",
       "    <tr>\n",
       "      <th>25%</th>\n",
       "      <td>656.750000</td>\n",
       "      <td>0.000000</td>\n",
       "      <td>95000.000000</td>\n",
       "    </tr>\n",
       "    <tr>\n",
       "      <th>50%</th>\n",
       "      <td>1313.500000</td>\n",
       "      <td>0.000000</td>\n",
       "      <td>135000.000000</td>\n",
       "    </tr>\n",
       "    <tr>\n",
       "      <th>75%</th>\n",
       "      <td>1970.250000</td>\n",
       "      <td>100.000000</td>\n",
       "      <td>176325.000000</td>\n",
       "    </tr>\n",
       "    <tr>\n",
       "      <th>max</th>\n",
       "      <td>2627.000000</td>\n",
       "      <td>100.000000</td>\n",
       "      <td>423000.000000</td>\n",
       "    </tr>\n",
       "  </tbody>\n",
       "</table>\n",
       "</div>"
      ],
      "text/plain": [
       "               UID        col_4              y\n",
       "count  2628.000000  2628.000000    2628.000000\n",
       "mean   1313.500000    46.308980  137642.657154\n",
       "std     758.782578    48.558188   62886.926575\n",
       "min       0.000000     0.000000    5132.000000\n",
       "25%     656.750000     0.000000   95000.000000\n",
       "50%    1313.500000     0.000000  135000.000000\n",
       "75%    1970.250000   100.000000  176325.000000\n",
       "max    2627.000000   100.000000  423000.000000"
      ]
     },
     "execution_count": 6,
     "metadata": {},
     "output_type": "execute_result"
    }
   ],
   "source": [
    "# ummary statistics of the numerical columns:\n",
    "train_data.describe()"
   ]
  },
  {
   "cell_type": "code",
   "execution_count": 7,
   "metadata": {},
   "outputs": [
    {
     "name": "stdout",
     "output_type": "stream",
     "text": [
      "<class 'pandas.core.frame.DataFrame'>\n",
      "RangeIndex: 2628 entries, 0 to 2627\n",
      "Data columns (total 9 columns):\n",
      " #   Column  Non-Null Count  Dtype \n",
      "---  ------  --------------  ----- \n",
      " 0   UID     2628 non-null   int64 \n",
      " 1   col_0   2489 non-null   object\n",
      " 2   col_1   2542 non-null   object\n",
      " 3   col_2   2628 non-null   object\n",
      " 4   col_3   2628 non-null   object\n",
      " 5   col_4   2628 non-null   int64 \n",
      " 6   col_5   2628 non-null   object\n",
      " 7   col_6   2516 non-null   object\n",
      " 8   y       2628 non-null   int64 \n",
      "dtypes: int64(3), object(6)\n",
      "memory usage: 184.9+ KB\n"
     ]
    }
   ],
   "source": [
    "train_data.info()"
   ]
  },
  {
   "cell_type": "code",
   "execution_count": 8,
   "metadata": {},
   "outputs": [
    {
     "data": {
      "text/plain": [
       "(2628, 9)"
      ]
     },
     "execution_count": 8,
     "metadata": {},
     "output_type": "execute_result"
    }
   ],
   "source": [
    "train_data.shape"
   ]
  },
  {
   "cell_type": "code",
   "execution_count": 9,
   "metadata": {},
   "outputs": [
    {
     "name": "stdout",
     "output_type": "stream",
     "text": [
      "UID        0\n",
      "col_0    139\n",
      "col_1     86\n",
      "col_2      0\n",
      "col_3      0\n",
      "col_4      0\n",
      "col_5      0\n",
      "col_6    112\n",
      "y          0\n",
      "dtype: int64\n",
      "Total missing values: 337\n"
     ]
    }
   ],
   "source": [
    "# Check for missing values\n",
    "missing_values = train_data.isnull().sum()\n",
    "print(missing_values)\n",
    "# Check for missing values\n",
    "total_missing_values = train_data.isnull().sum().sum()\n",
    "print(f'Total missing values: {total_missing_values}')\n",
    "\n"
   ]
  },
  {
   "cell_type": "markdown",
   "metadata": {},
   "source": [
    "## Custome Functions"
   ]
  },
  {
   "cell_type": "code",
   "execution_count": 10,
   "metadata": {},
   "outputs": [],
   "source": [
    "# Function to check if a value is a string\n",
    "def is_string(value):\n",
    "    return isinstance(value, str)\n",
    "\n",
    "# Function to check if a string contains spaces\n",
    "def contains_spaces(s):\n",
    "    return ' ' in s\n",
    "\n",
    "# Loop through all columns and remove trailing whitespace for string columns\n",
    "# Remove spaces between words in the 'TextColumn'\n",
    "# Function to remove spaces between words and remove trailing whitespace for object type columns\n",
    "def rm_spaces(dataframe):\n",
    "    for column in dataframe.columns:\n",
    "        if dataframe[column].dtype == 'object':  # Check if the column contains strings\n",
    "            dataframe[column] = dataframe[column].str.strip()\n",
    "            dataframe[column] = dataframe[column].str.replace(' ', '')\n",
    "\n",
    "    return dataframe\n",
    "\n",
    "\n",
    "def count_string_and_non_string_values(data_frame):\n",
    "\n",
    "    # Get a list of column names with object (string) data type\n",
    "    string_columns = data_frame.select_dtypes(include=['object']).columns\n",
    "\n",
    "    # Initialize lists to store non-string values and their locations\n",
    "    non_string_values = []\n",
    "    non_string_locations = []\n",
    "\n",
    "    # Apply the function to each element in the DataFrame, count the results, and collect non-string values\n",
    "    string_count = data_frame[string_columns].applymap(is_string).sum().sum()\n",
    "    for col in string_columns:\n",
    "        non_string_col = data_frame[col][data_frame[col].apply(lambda x: not is_string(x))]\n",
    "        non_string_values.extend(non_string_col)\n",
    "        non_string_locations.extend([(col, idx) for idx in non_string_col.index])\n",
    "\n",
    "    # Return the counts and non-string values\n",
    "    return {\n",
    "        'Count of string values': string_count,\n",
    "        'Count of non-string values': len(non_string_values),\n",
    "        'Non-string values': non_string_values,\n",
    "        'Non-string value locations': non_string_locations\n",
    "    }\n",
    "\n",
    "def status_of_space(dataframe):\n",
    "    # Get a list of column names with object (string) data type\n",
    "    string_columns = dataframe.select_dtypes(include=['object']).columns\n",
    "\n",
    "\n",
    "    # Apply the function to each element in the DataFrame and count the results\n",
    "    string_count = dataframe[string_columns].applymap(is_string).sum().sum()\n",
    "    non_string_count = dataframe[string_columns].applymap(lambda x: not is_string(x)).sum().sum()\n",
    "\n",
    "    # Print the counts\n",
    "    print(f'Count of string values: {string_count}')\n",
    "    print(f'Count of non-string values: {non_string_count}')\n",
    "\n",
    "    # Convert mixed columns to string columns\n",
    "    strdata = dataframe[string_columns].astype(str)\n",
    "\n",
    "    # Apply the function to each element in the selected columns and sum the results\n",
    "    count_with_spaces = strdata[string_columns].applymap(contains_spaces).sum().sum()\n",
    "\n",
    "    # Print the count of strings with spaces\n",
    "    print(f'Count of strings with spaces: {count_with_spaces}')"
   ]
  },
  {
   "cell_type": "code",
   "execution_count": 12,
   "metadata": {},
   "outputs": [
    {
     "name": "stdout",
     "output_type": "stream",
     "text": [
      "{'Count of string values': 15431, 'Count of non-string values': 337, 'Non-string values': [nan, nan, nan, nan, nan, nan, nan, nan, nan, nan, nan, nan, nan, nan, nan, nan, nan, nan, nan, nan, nan, nan, nan, nan, nan, nan, nan, nan, nan, nan, nan, nan, nan, nan, nan, nan, nan, nan, nan, nan, nan, nan, nan, nan, nan, nan, nan, nan, nan, nan, nan, nan, nan, nan, nan, nan, nan, nan, nan, nan, nan, nan, nan, nan, nan, nan, nan, nan, nan, nan, nan, nan, nan, nan, nan, nan, nan, nan, nan, nan, nan, nan, nan, nan, nan, nan, nan, nan, nan, nan, nan, nan, nan, nan, nan, nan, nan, nan, nan, nan, nan, nan, nan, nan, nan, nan, nan, nan, nan, nan, nan, nan, nan, nan, nan, nan, nan, nan, nan, nan, nan, nan, nan, nan, nan, nan, nan, nan, nan, nan, nan, nan, nan, nan, nan, nan, nan, nan, nan, nan, nan, nan, nan, nan, nan, nan, nan, nan, nan, nan, nan, nan, nan, nan, nan, nan, nan, nan, nan, nan, nan, nan, nan, nan, nan, nan, nan, nan, nan, nan, nan, nan, nan, nan, nan, nan, nan, nan, nan, nan, nan, nan, nan, nan, nan, nan, nan, nan, nan, nan, nan, nan, nan, nan, nan, nan, nan, nan, nan, nan, nan, nan, nan, nan, nan, nan, nan, nan, nan, nan, nan, nan, nan, nan, nan, nan, nan, nan, nan, nan, nan, nan, nan, nan, nan, nan, nan, nan, nan, nan, nan, nan, nan, nan, nan, nan, nan, nan, nan, nan, nan, nan, nan, nan, nan, nan, nan, nan, nan, nan, nan, nan, nan, nan, nan, nan, nan, nan, nan, nan, nan, nan, nan, nan, nan, nan, nan, nan, nan, nan, nan, nan, nan, nan, nan, nan, nan, nan, nan, nan, nan, nan, nan, nan, nan, nan, nan, nan, nan, nan, nan, nan, nan, nan, nan, nan, nan, nan, nan, nan, nan, nan, nan, nan, nan, nan, nan, nan, nan, nan, nan, nan, nan, nan, nan, nan, nan, nan, nan, nan, nan, nan, nan, nan, nan, nan, nan, nan, nan, nan, nan, nan, nan, nan, nan, nan, nan], 'Non-string value locations': [('col_0', 20), ('col_0', 39), ('col_0', 51), ('col_0', 77), ('col_0', 104), ('col_0', 129), ('col_0', 132), ('col_0', 139), ('col_0', 159), ('col_0', 170), ('col_0', 188), ('col_0', 259), ('col_0', 303), ('col_0', 308), ('col_0', 316), ('col_0', 354), ('col_0', 365), ('col_0', 370), ('col_0', 425), ('col_0', 442), ('col_0', 464), ('col_0', 467), ('col_0', 498), ('col_0', 509), ('col_0', 515), ('col_0', 528), ('col_0', 539), ('col_0', 562), ('col_0', 568), ('col_0', 586), ('col_0', 621), ('col_0', 636), ('col_0', 651), ('col_0', 653), ('col_0', 662), ('col_0', 666), ('col_0', 674), ('col_0', 697), ('col_0', 726), ('col_0', 742), ('col_0', 753), ('col_0', 797), ('col_0', 800), ('col_0', 817), ('col_0', 824), ('col_0', 850), ('col_0', 854), ('col_0', 900), ('col_0', 902), ('col_0', 919), ('col_0', 925), ('col_0', 933), ('col_0', 939), ('col_0', 945), ('col_0', 950), ('col_0', 957), ('col_0', 958), ('col_0', 1011), ('col_0', 1034), ('col_0', 1049), ('col_0', 1064), ('col_0', 1084), ('col_0', 1123), ('col_0', 1127), ('col_0', 1148), ('col_0', 1156), ('col_0', 1202), ('col_0', 1204), ('col_0', 1216), ('col_0', 1239), ('col_0', 1243), ('col_0', 1290), ('col_0', 1304), ('col_0', 1313), ('col_0', 1356), ('col_0', 1364), ('col_0', 1372), ('col_0', 1404), ('col_0', 1467), ('col_0', 1474), ('col_0', 1518), ('col_0', 1520), ('col_0', 1543), ('col_0', 1571), ('col_0', 1588), ('col_0', 1593), ('col_0', 1655), ('col_0', 1672), ('col_0', 1674), ('col_0', 1765), ('col_0', 1794), ('col_0', 1795), ('col_0', 1806), ('col_0', 1813), ('col_0', 1822), ('col_0', 1824), ('col_0', 1872), ('col_0', 1878), ('col_0', 1885), ('col_0', 1899), ('col_0', 1901), ('col_0', 1936), ('col_0', 1967), ('col_0', 1987), ('col_0', 2013), ('col_0', 2038), ('col_0', 2048), ('col_0', 2051), ('col_0', 2060), ('col_0', 2116), ('col_0', 2129), ('col_0', 2155), ('col_0', 2160), ('col_0', 2166), ('col_0', 2171), ('col_0', 2175), ('col_0', 2179), ('col_0', 2188), ('col_0', 2199), ('col_0', 2203), ('col_0', 2209), ('col_0', 2215), ('col_0', 2257), ('col_0', 2310), ('col_0', 2322), ('col_0', 2337), ('col_0', 2350), ('col_0', 2379), ('col_0', 2398), ('col_0', 2411), ('col_0', 2463), ('col_0', 2501), ('col_0', 2507), ('col_0', 2535), ('col_0', 2538), ('col_0', 2545), ('col_0', 2550), ('col_0', 2570), ('col_0', 2622), ('col_1', 30), ('col_1', 50), ('col_1', 84), ('col_1', 174), ('col_1', 204), ('col_1', 215), ('col_1', 226), ('col_1', 342), ('col_1', 371), ('col_1', 379), ('col_1', 385), ('col_1', 437), ('col_1', 460), ('col_1', 463), ('col_1', 466), ('col_1', 467), ('col_1', 488), ('col_1', 512), ('col_1', 540), ('col_1', 541), ('col_1', 544), ('col_1', 606), ('col_1', 618), ('col_1', 623), ('col_1', 690), ('col_1', 738), ('col_1', 815), ('col_1', 820), ('col_1', 824), ('col_1', 868), ('col_1', 881), ('col_1', 892), ('col_1', 977), ('col_1', 983), ('col_1', 1001), ('col_1', 1003), ('col_1', 1024), ('col_1', 1026), ('col_1', 1030), ('col_1', 1062), ('col_1', 1103), ('col_1', 1118), ('col_1', 1154), ('col_1', 1182), ('col_1', 1192), ('col_1', 1198), ('col_1', 1230), ('col_1', 1314), ('col_1', 1364), ('col_1', 1378), ('col_1', 1388), ('col_1', 1405), ('col_1', 1499), ('col_1', 1590), ('col_1', 1671), ('col_1', 1694), ('col_1', 1712), ('col_1', 1734), ('col_1', 1737), ('col_1', 1784), ('col_1', 1827), ('col_1', 1828), ('col_1', 1855), ('col_1', 1887), ('col_1', 1941), ('col_1', 1960), ('col_1', 1979), ('col_1', 2041), ('col_1', 2080), ('col_1', 2085), ('col_1', 2119), ('col_1', 2131), ('col_1', 2155), ('col_1', 2174), ('col_1', 2268), ('col_1', 2281), ('col_1', 2282), ('col_1', 2291), ('col_1', 2321), ('col_1', 2418), ('col_1', 2420), ('col_1', 2472), ('col_1', 2502), ('col_1', 2503), ('col_1', 2549), ('col_1', 2574), ('col_6', 40), ('col_6', 43), ('col_6', 56), ('col_6', 58), ('col_6', 60), ('col_6', 66), ('col_6', 169), ('col_6', 175), ('col_6', 187), ('col_6', 213), ('col_6', 218), ('col_6', 258), ('col_6', 270), ('col_6', 279), ('col_6', 282), ('col_6', 293), ('col_6', 320), ('col_6', 324), ('col_6', 325), ('col_6', 339), ('col_6', 371), ('col_6', 462), ('col_6', 503), ('col_6', 517), ('col_6', 604), ('col_6', 615), ('col_6', 646), ('col_6', 672), ('col_6', 731), ('col_6', 847), ('col_6', 893), ('col_6', 926), ('col_6', 927), ('col_6', 939), ('col_6', 941), ('col_6', 965), ('col_6', 1007), ('col_6', 1045), ('col_6', 1062), ('col_6', 1065), ('col_6', 1069), ('col_6', 1085), ('col_6', 1096), ('col_6', 1111), ('col_6', 1165), ('col_6', 1184), ('col_6', 1195), ('col_6', 1206), ('col_6', 1207), ('col_6', 1209), ('col_6', 1247), ('col_6', 1272), ('col_6', 1327), ('col_6', 1349), ('col_6', 1359), ('col_6', 1362), ('col_6', 1403), ('col_6', 1410), ('col_6', 1427), ('col_6', 1428), ('col_6', 1438), ('col_6', 1454), ('col_6', 1464), ('col_6', 1471), ('col_6', 1481), ('col_6', 1507), ('col_6', 1535), ('col_6', 1543), ('col_6', 1563), ('col_6', 1570), ('col_6', 1617), ('col_6', 1626), ('col_6', 1718), ('col_6', 1751), ('col_6', 1764), ('col_6', 1782), ('col_6', 1789), ('col_6', 1874), ('col_6', 1890), ('col_6', 1911), ('col_6', 1930), ('col_6', 1933), ('col_6', 1939), ('col_6', 1956), ('col_6', 1961), ('col_6', 1990), ('col_6', 2002), ('col_6', 2042), ('col_6', 2049), ('col_6', 2050), ('col_6', 2087), ('col_6', 2097), ('col_6', 2108), ('col_6', 2114), ('col_6', 2138), ('col_6', 2168), ('col_6', 2175), ('col_6', 2216), ('col_6', 2295), ('col_6', 2307), ('col_6', 2312), ('col_6', 2327), ('col_6', 2329), ('col_6', 2330), ('col_6', 2342), ('col_6', 2358), ('col_6', 2376), ('col_6', 2382), ('col_6', 2392), ('col_6', 2550), ('col_6', 2571), ('col_6', 2612)]}\n"
     ]
    }
   ],
   "source": [
    "nan_valus_results = count_string_and_non_string_values(train_data)\n",
    "print(nan_valus_results)"
   ]
  },
  {
   "cell_type": "markdown",
   "metadata": {},
   "source": [
    "## Before removing spaces"
   ]
  },
  {
   "cell_type": "code",
   "execution_count": 13,
   "metadata": {},
   "outputs": [
    {
     "name": "stdout",
     "output_type": "stream",
     "text": [
      "Count of string values: 15431\n",
      "Count of non-string values: 337\n",
      "Count of strings with spaces: 471\n"
     ]
    }
   ],
   "source": [
    "status_of_space(train_data)"
   ]
  },
  {
   "cell_type": "markdown",
   "metadata": {},
   "source": [
    "## After removing spaces"
   ]
  },
  {
   "cell_type": "code",
   "execution_count": 14,
   "metadata": {},
   "outputs": [
    {
     "name": "stdout",
     "output_type": "stream",
     "text": [
      "Count of string values: 15431\n",
      "Count of non-string values: 337\n",
      "Count of strings with spaces: 0\n"
     ]
    }
   ],
   "source": [
    "train_data = rm_spaces(train_data)\n",
    "\n",
    "status_of_space(train_data)"
   ]
  },
  {
   "cell_type": "code",
   "execution_count": 15,
   "metadata": {},
   "outputs": [
    {
     "name": "stdout",
     "output_type": "stream",
     "text": [
      "{'Count of string values': 15431, 'Count of non-string values': 337, 'Non-string values': [nan, nan, nan, nan, nan, nan, nan, nan, nan, nan, nan, nan, nan, nan, nan, nan, nan, nan, nan, nan, nan, nan, nan, nan, nan, nan, nan, nan, nan, nan, nan, nan, nan, nan, nan, nan, nan, nan, nan, nan, nan, nan, nan, nan, nan, nan, nan, nan, nan, nan, nan, nan, nan, nan, nan, nan, nan, nan, nan, nan, nan, nan, nan, nan, nan, nan, nan, nan, nan, nan, nan, nan, nan, nan, nan, nan, nan, nan, nan, nan, nan, nan, nan, nan, nan, nan, nan, nan, nan, nan, nan, nan, nan, nan, nan, nan, nan, nan, nan, nan, nan, nan, nan, nan, nan, nan, nan, nan, nan, nan, nan, nan, nan, nan, nan, nan, nan, nan, nan, nan, nan, nan, nan, nan, nan, nan, nan, nan, nan, nan, nan, nan, nan, nan, nan, nan, nan, nan, nan, nan, nan, nan, nan, nan, nan, nan, nan, nan, nan, nan, nan, nan, nan, nan, nan, nan, nan, nan, nan, nan, nan, nan, nan, nan, nan, nan, nan, nan, nan, nan, nan, nan, nan, nan, nan, nan, nan, nan, nan, nan, nan, nan, nan, nan, nan, nan, nan, nan, nan, nan, nan, nan, nan, nan, nan, nan, nan, nan, nan, nan, nan, nan, nan, nan, nan, nan, nan, nan, nan, nan, nan, nan, nan, nan, nan, nan, nan, nan, nan, nan, nan, nan, nan, nan, nan, nan, nan, nan, nan, nan, nan, nan, nan, nan, nan, nan, nan, nan, nan, nan, nan, nan, nan, nan, nan, nan, nan, nan, nan, nan, nan, nan, nan, nan, nan, nan, nan, nan, nan, nan, nan, nan, nan, nan, nan, nan, nan, nan, nan, nan, nan, nan, nan, nan, nan, nan, nan, nan, nan, nan, nan, nan, nan, nan, nan, nan, nan, nan, nan, nan, nan, nan, nan, nan, nan, nan, nan, nan, nan, nan, nan, nan, nan, nan, nan, nan, nan, nan, nan, nan, nan, nan, nan, nan, nan, nan, nan, nan, nan, nan, nan, nan, nan, nan, nan, nan, nan, nan, nan, nan, nan, nan, nan, nan, nan, nan, nan], 'Non-string value locations': [('col_0', 20), ('col_0', 39), ('col_0', 51), ('col_0', 77), ('col_0', 104), ('col_0', 129), ('col_0', 132), ('col_0', 139), ('col_0', 159), ('col_0', 170), ('col_0', 188), ('col_0', 259), ('col_0', 303), ('col_0', 308), ('col_0', 316), ('col_0', 354), ('col_0', 365), ('col_0', 370), ('col_0', 425), ('col_0', 442), ('col_0', 464), ('col_0', 467), ('col_0', 498), ('col_0', 509), ('col_0', 515), ('col_0', 528), ('col_0', 539), ('col_0', 562), ('col_0', 568), ('col_0', 586), ('col_0', 621), ('col_0', 636), ('col_0', 651), ('col_0', 653), ('col_0', 662), ('col_0', 666), ('col_0', 674), ('col_0', 697), ('col_0', 726), ('col_0', 742), ('col_0', 753), ('col_0', 797), ('col_0', 800), ('col_0', 817), ('col_0', 824), ('col_0', 850), ('col_0', 854), ('col_0', 900), ('col_0', 902), ('col_0', 919), ('col_0', 925), ('col_0', 933), ('col_0', 939), ('col_0', 945), ('col_0', 950), ('col_0', 957), ('col_0', 958), ('col_0', 1011), ('col_0', 1034), ('col_0', 1049), ('col_0', 1064), ('col_0', 1084), ('col_0', 1123), ('col_0', 1127), ('col_0', 1148), ('col_0', 1156), ('col_0', 1202), ('col_0', 1204), ('col_0', 1216), ('col_0', 1239), ('col_0', 1243), ('col_0', 1290), ('col_0', 1304), ('col_0', 1313), ('col_0', 1356), ('col_0', 1364), ('col_0', 1372), ('col_0', 1404), ('col_0', 1467), ('col_0', 1474), ('col_0', 1518), ('col_0', 1520), ('col_0', 1543), ('col_0', 1571), ('col_0', 1588), ('col_0', 1593), ('col_0', 1655), ('col_0', 1672), ('col_0', 1674), ('col_0', 1765), ('col_0', 1794), ('col_0', 1795), ('col_0', 1806), ('col_0', 1813), ('col_0', 1822), ('col_0', 1824), ('col_0', 1872), ('col_0', 1878), ('col_0', 1885), ('col_0', 1899), ('col_0', 1901), ('col_0', 1936), ('col_0', 1967), ('col_0', 1987), ('col_0', 2013), ('col_0', 2038), ('col_0', 2048), ('col_0', 2051), ('col_0', 2060), ('col_0', 2116), ('col_0', 2129), ('col_0', 2155), ('col_0', 2160), ('col_0', 2166), ('col_0', 2171), ('col_0', 2175), ('col_0', 2179), ('col_0', 2188), ('col_0', 2199), ('col_0', 2203), ('col_0', 2209), ('col_0', 2215), ('col_0', 2257), ('col_0', 2310), ('col_0', 2322), ('col_0', 2337), ('col_0', 2350), ('col_0', 2379), ('col_0', 2398), ('col_0', 2411), ('col_0', 2463), ('col_0', 2501), ('col_0', 2507), ('col_0', 2535), ('col_0', 2538), ('col_0', 2545), ('col_0', 2550), ('col_0', 2570), ('col_0', 2622), ('col_1', 30), ('col_1', 50), ('col_1', 84), ('col_1', 174), ('col_1', 204), ('col_1', 215), ('col_1', 226), ('col_1', 342), ('col_1', 371), ('col_1', 379), ('col_1', 385), ('col_1', 437), ('col_1', 460), ('col_1', 463), ('col_1', 466), ('col_1', 467), ('col_1', 488), ('col_1', 512), ('col_1', 540), ('col_1', 541), ('col_1', 544), ('col_1', 606), ('col_1', 618), ('col_1', 623), ('col_1', 690), ('col_1', 738), ('col_1', 815), ('col_1', 820), ('col_1', 824), ('col_1', 868), ('col_1', 881), ('col_1', 892), ('col_1', 977), ('col_1', 983), ('col_1', 1001), ('col_1', 1003), ('col_1', 1024), ('col_1', 1026), ('col_1', 1030), ('col_1', 1062), ('col_1', 1103), ('col_1', 1118), ('col_1', 1154), ('col_1', 1182), ('col_1', 1192), ('col_1', 1198), ('col_1', 1230), ('col_1', 1314), ('col_1', 1364), ('col_1', 1378), ('col_1', 1388), ('col_1', 1405), ('col_1', 1499), ('col_1', 1590), ('col_1', 1671), ('col_1', 1694), ('col_1', 1712), ('col_1', 1734), ('col_1', 1737), ('col_1', 1784), ('col_1', 1827), ('col_1', 1828), ('col_1', 1855), ('col_1', 1887), ('col_1', 1941), ('col_1', 1960), ('col_1', 1979), ('col_1', 2041), ('col_1', 2080), ('col_1', 2085), ('col_1', 2119), ('col_1', 2131), ('col_1', 2155), ('col_1', 2174), ('col_1', 2268), ('col_1', 2281), ('col_1', 2282), ('col_1', 2291), ('col_1', 2321), ('col_1', 2418), ('col_1', 2420), ('col_1', 2472), ('col_1', 2502), ('col_1', 2503), ('col_1', 2549), ('col_1', 2574), ('col_6', 40), ('col_6', 43), ('col_6', 56), ('col_6', 58), ('col_6', 60), ('col_6', 66), ('col_6', 169), ('col_6', 175), ('col_6', 187), ('col_6', 213), ('col_6', 218), ('col_6', 258), ('col_6', 270), ('col_6', 279), ('col_6', 282), ('col_6', 293), ('col_6', 320), ('col_6', 324), ('col_6', 325), ('col_6', 339), ('col_6', 371), ('col_6', 462), ('col_6', 503), ('col_6', 517), ('col_6', 604), ('col_6', 615), ('col_6', 646), ('col_6', 672), ('col_6', 731), ('col_6', 847), ('col_6', 893), ('col_6', 926), ('col_6', 927), ('col_6', 939), ('col_6', 941), ('col_6', 965), ('col_6', 1007), ('col_6', 1045), ('col_6', 1062), ('col_6', 1065), ('col_6', 1069), ('col_6', 1085), ('col_6', 1096), ('col_6', 1111), ('col_6', 1165), ('col_6', 1184), ('col_6', 1195), ('col_6', 1206), ('col_6', 1207), ('col_6', 1209), ('col_6', 1247), ('col_6', 1272), ('col_6', 1327), ('col_6', 1349), ('col_6', 1359), ('col_6', 1362), ('col_6', 1403), ('col_6', 1410), ('col_6', 1427), ('col_6', 1428), ('col_6', 1438), ('col_6', 1454), ('col_6', 1464), ('col_6', 1471), ('col_6', 1481), ('col_6', 1507), ('col_6', 1535), ('col_6', 1543), ('col_6', 1563), ('col_6', 1570), ('col_6', 1617), ('col_6', 1626), ('col_6', 1718), ('col_6', 1751), ('col_6', 1764), ('col_6', 1782), ('col_6', 1789), ('col_6', 1874), ('col_6', 1890), ('col_6', 1911), ('col_6', 1930), ('col_6', 1933), ('col_6', 1939), ('col_6', 1956), ('col_6', 1961), ('col_6', 1990), ('col_6', 2002), ('col_6', 2042), ('col_6', 2049), ('col_6', 2050), ('col_6', 2087), ('col_6', 2097), ('col_6', 2108), ('col_6', 2114), ('col_6', 2138), ('col_6', 2168), ('col_6', 2175), ('col_6', 2216), ('col_6', 2295), ('col_6', 2307), ('col_6', 2312), ('col_6', 2327), ('col_6', 2329), ('col_6', 2330), ('col_6', 2342), ('col_6', 2358), ('col_6', 2376), ('col_6', 2382), ('col_6', 2392), ('col_6', 2550), ('col_6', 2571), ('col_6', 2612)]}\n"
     ]
    }
   ],
   "source": [
    "nan_valus_results = count_string_and_non_string_values(train_data)\n",
    "print(nan_valus_results)"
   ]
  },
  {
   "cell_type": "code",
   "execution_count": 16,
   "metadata": {},
   "outputs": [],
   "source": [
    "# # Assuming you have a DataFrame named 'train_data'\n",
    "# # You can export it to a CSV file named 'cleaned_train_data.csv' like this:\n",
    "# train_data.to_csv('data/cleaned_train_data_removeinsidespace.csv', index=False)\n",
    "\n",
    "# # If you want to include the index in the CSV file, remove the 'index=False' parameter.\n"
   ]
  },
  {
   "cell_type": "code",
   "execution_count": 18,
   "metadata": {},
   "outputs": [
    {
     "name": "stdout",
     "output_type": "stream",
     "text": [
      "<class 'pandas.core.frame.DataFrame'>\n",
      "RangeIndex: 2628 entries, 0 to 2627\n",
      "Data columns (total 9 columns):\n",
      " #   Column  Non-Null Count  Dtype \n",
      "---  ------  --------------  ----- \n",
      " 0   UID     2628 non-null   int64 \n",
      " 1   col_0   2489 non-null   object\n",
      " 2   col_1   2542 non-null   object\n",
      " 3   col_2   2628 non-null   object\n",
      " 4   col_3   2628 non-null   object\n",
      " 5   col_4   2628 non-null   int64 \n",
      " 6   col_5   2628 non-null   object\n",
      " 7   col_6   2516 non-null   object\n",
      " 8   y       2628 non-null   int64 \n",
      "dtypes: int64(3), object(6)\n",
      "memory usage: 184.9+ KB\n"
     ]
    }
   ],
   "source": [
    "train_data.info()"
   ]
  },
  {
   "cell_type": "code",
   "execution_count": 17,
   "metadata": {},
   "outputs": [
    {
     "name": "stdout",
     "output_type": "stream",
     "text": [
      "UID      2628\n",
      "col_0       5\n",
      "col_1       5\n",
      "col_2      90\n",
      "col_3      68\n",
      "col_4       3\n",
      "col_5      67\n",
      "col_6       4\n",
      "y         836\n",
      "dtype: int64\n"
     ]
    }
   ],
   "source": [
    "unique_values = train_data.nunique()\n",
    "print(unique_values)\n"
   ]
  },
  {
   "cell_type": "code",
   "execution_count": 25,
   "metadata": {},
   "outputs": [],
   "source": [
    "import seaborn as sns\n",
    "import matplotlib.pyplot as plt"
   ]
  },
  {
   "cell_type": "code",
   "execution_count": 42,
   "metadata": {},
   "outputs": [],
   "source": [
    "# train_data['col_4'].hist()\n",
    "# plt.show()"
   ]
  },
  {
   "cell_type": "code",
   "execution_count": 43,
   "metadata": {},
   "outputs": [],
   "source": [
    "\n",
    "# # histogram of 'Y'\n",
    "# train_data['y'].hist()\n",
    "# plt.show()"
   ]
  },
  {
   "cell_type": "code",
   "execution_count": 28,
   "metadata": {},
   "outputs": [
    {
     "data": {
      "image/png": "[encoded data removed]",
      "text/plain": [
       "<Figure size 640x480 with 1 Axes>"
      ]
     },
     "metadata": {},
     "output_type": "display_data"
    }
   ],
   "source": [
    "# Example: Visualize counts of 'col_0'\n",
    "sns.countplot(data=train_data, x='col_0')\n",
    "plt.show()"
   ]
  },
  {
   "cell_type": "code",
   "execution_count": 33,
   "metadata": {},
   "outputs": [
    {
     "data": {
      "image/png": "[encoded data removed]",
      "text/plain": [
       "<Figure size 640x480 with 1 Axes>"
      ]
     },
     "metadata": {},
     "output_type": "display_data"
    }
   ],
   "source": [
    "# Example: Visualize 'y' values using a boxplot\n",
    "sns.boxplot(data=train_data, y='y')\n",
    "plt.show()"
   ]
  },
  {
   "cell_type": "code",
   "execution_count": 53,
   "metadata": {},
   "outputs": [
    {
     "data": {
      "image/png": "[encoded data removed]",
      "text/plain": [
       "<Figure size 640x480 with 1 Axes>"
      ]
     },
     "metadata": {},
     "output_type": "display_data"
    }
   ],
   "source": [
    "# Example: Visualize counts of 'col_1'\n",
    "sns.countplot(data=train_data, x='col_1')\n",
    "plt.show()"
   ]
  },
  {
   "cell_type": "code",
   "execution_count": 38,
   "metadata": {},
   "outputs": [
    {
     "data": {
      "image/png": "[encoded data removed]",
      "text/plain": [
       "<Figure size 640x480 with 1 Axes>"
      ]
     },
     "metadata": {},
     "output_type": "display_data"
    }
   ],
   "source": [
    "# Example: Visualize counts of 'col_4'\n",
    "sns.countplot(data=train_data, x='col_4')\n",
    "plt.show()"
   ]
  },
  {
   "cell_type": "code",
   "execution_count": 39,
   "metadata": {},
   "outputs": [
    {
     "data": {
      "image/png": "[encoded data removed]",
      "text/plain": [
       "<Figure size 640x480 with 1 Axes>"
      ]
     },
     "metadata": {},
     "output_type": "display_data"
    }
   ],
   "source": [
    "# Example: Visualize counts of 'col_6'\n",
    "sns.countplot(data=train_data, x='col_6')\n",
    "plt.show()"
   ]
  },
  {
   "cell_type": "code",
   "execution_count": 41,
   "metadata": {},
   "outputs": [],
   "source": [
    "# # Example: Visualize pairwise relationships for numerical columns\n",
    "# sns.pairplot(data=train_data[['col_3', 'col_4', 'col_6', 'y']])\n",
    "# plt.show()"
   ]
  },
  {
   "cell_type": "code",
   "execution_count": 36,
   "metadata": {},
   "outputs": [
    {
     "data": {
      "image/png": "[encoded data removed]",
      "text/plain": [
       "<Figure size 640x480 with 1 Axes>"
      ]
     },
     "metadata": {},
     "output_type": "display_data"
    }
   ],
   "source": [
    "# Example: Visualize the distribution of 'y' values\n",
    "sns.histplot(data=train_data, x='y', bins=20, kde=True)\n",
    "plt.show()"
   ]
  },
  {
   "cell_type": "code",
   "execution_count": 54,
   "metadata": {},
   "outputs": [],
   "source": [
    "# Replacing all 'AO' to 'A0'\n",
    "train_data['col_0'] = train_data['col_0'].replace('AO', 'A0')\n"
   ]
  },
  {
   "cell_type": "code",
   "execution_count": 55,
   "metadata": {},
   "outputs": [
    {
     "data": {
      "image/png": "[encoded data removed]",
      "text/plain": [
       "<Figure size 640x480 with 1 Axes>"
      ]
     },
     "metadata": {},
     "output_type": "display_data"
    }
   ],
   "source": [
    "# Example: Visualize counts of 'col_0'\n",
    "sns.countplot(data=train_data, x='col_0')\n",
    "plt.show()"
   ]
  },
  {
   "cell_type": "code",
   "execution_count": 57,
   "metadata": {},
   "outputs": [
    {
     "name": "stdout",
     "output_type": "stream",
     "text": [
      "col_1\n",
      "B0    2489\n",
      "BO      29\n",
      "B3      11\n",
      "B2       7\n",
      "B1       6\n",
      "Name: count, dtype: int64\n"
     ]
    }
   ],
   "source": [
    "# Assuming df is your DataFrame and 'col_name' is the name of the column you want to count unique values in\n",
    "unique_value_counts = train_data['col_1'].value_counts()\n",
    "\n",
    "# Display the unique value counts\n",
    "print(unique_value_counts)"
   ]
  },
  {
   "cell_type": "code",
   "execution_count": 60,
   "metadata": {},
   "outputs": [],
   "source": [
    "# Replacing all 'BO' to 'B0'\n",
    "train_data['col_1'] = train_data['col_1'].replace('BO', 'B0')"
   ]
  },
  {
   "cell_type": "code",
   "execution_count": 61,
   "metadata": {},
   "outputs": [
    {
     "data": {
      "image/png": "[encoded data removed]",
      "text/plain": [
       "<Figure size 640x480 with 1 Axes>"
      ]
     },
     "metadata": {},
     "output_type": "display_data"
    }
   ],
   "source": [
    "# Example: Visualize counts of 'col_1'\n",
    "sns.countplot(data=train_data, x='col_1')\n",
    "plt.show()"
   ]
  },
  {
   "cell_type": "code",
   "execution_count": 65,
   "metadata": {},
   "outputs": [
    {
     "name": "stdout",
     "output_type": "stream",
     "text": [
      "col_2\n",
      "C11    728\n",
      "C2     587\n",
      "C4     416\n",
      "C9     204\n",
      "C15     77\n",
      "      ... \n",
      "C62      1\n",
      "C63      1\n",
      "C92      1\n",
      "C76      1\n",
      "C66      1\n",
      "Name: count, Length: 90, dtype: int64\n"
     ]
    }
   ],
   "source": [
    "# Assuming df is your DataFrame and 'col_name' is the name of the column you want to count unique values in\n",
    "unique_value_counts_col_2 = train_data['col_2'].value_counts()\n",
    "\n",
    "# Display the unique value counts\n",
    "print(unique_value_counts_col_2)"
   ]
  },
  {
   "cell_type": "code",
   "execution_count": null,
   "metadata": {},
   "outputs": [],
   "source": [
    "train_data['column_name'].fillna('Missing', inplace=True)"
   ]
  }
 ],
 "metadata": {
  "kernelspec": {
   "display_name": "venv",
   "language": "python",
   "name": "python3"
  },
  "language_info": {
   "codemirror_mode": {
    "name": "ipython",
    "version": 3
   },
   "file_extension": ".py",
   "mimetype": "text/x-python",
   "name": "python",
   "nbconvert_exporter": "python",
   "pygments_lexer": "ipython3",
   "version": "3.10.12"
  },
  "orig_nbformat": 4
 },
 "nbformat": 4,
 "nbformat_minor": 2
}
